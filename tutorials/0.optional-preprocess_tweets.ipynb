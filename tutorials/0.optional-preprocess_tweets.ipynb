{
 "cells": [
  {
   "cell_type": "markdown",
   "id": "dde36437",
   "metadata": {},
   "source": [
    "# This notebook shows how to pre-process tweets, if needed for downstream tasks"
   ]
  },
  {
   "cell_type": "code",
   "execution_count": 1,
   "id": "b49d77af",
   "metadata": {},
   "outputs": [],
   "source": [
    "from stance_detector.preprocess_text import PreProcessText\n",
    "import pandas as pd\n",
    "import pprint as p"
   ]
  },
  {
   "cell_type": "code",
   "execution_count": 2,
   "id": "11402ff3",
   "metadata": {},
   "outputs": [
    {
     "name": "stdout",
     "output_type": "stream",
     "text": [
      "2025-05-14 14:19:28,081 - stance_detector.preprocess_text - INFO - Initiated PreProcessor\n"
     ]
    }
   ],
   "source": [
    "preprocess = PreProcessText()"
   ]
  },
  {
   "cell_type": "code",
   "execution_count": 3,
   "id": "a8fbe7c7",
   "metadata": {},
   "outputs": [
    {
     "name": "stdout",
     "output_type": "stream",
     "text": [
      "2025-05-14 14:19:28,118 - stance_detector.preprocess_text - INFO - Loaded CSV file: ../data/pstance_bernie.csv\n"
     ]
    },
    {
     "name": "stdout",
     "output_type": "stream",
     "text": [
      "2025-05-14 14:19:28,266 - stance_detector.preprocess_text - INFO - Saving preprocessed tweets to: ../data/pstance_bernie_preprocessed.csv\n"
     ]
    }
   ],
   "source": [
    "df = preprocess.preprocess_text(\n",
    "    input_path=\"../data/pstance_bernie.csv\",\n",
    "    output_path=\"../data/pstance_bernie_preprocessed.csv\"\n",
    ")\n"
   ]
  },
  {
   "cell_type": "code",
   "execution_count": 4,
   "id": "62ca0508",
   "metadata": {},
   "outputs": [
    {
     "data": {
      "text/html": [
       "<div>\n",
       "<style scoped>\n",
       "    .dataframe tbody tr th:only-of-type {\n",
       "        vertical-align: middle;\n",
       "    }\n",
       "\n",
       "    .dataframe tbody tr th {\n",
       "        vertical-align: top;\n",
       "    }\n",
       "\n",
       "    .dataframe thead th {\n",
       "        text-align: right;\n",
       "    }\n",
       "</style>\n",
       "<table border=\"1\" class=\"dataframe\">\n",
       "  <thead>\n",
       "    <tr style=\"text-align: right;\">\n",
       "      <th></th>\n",
       "      <th>Tweet</th>\n",
       "      <th>Target</th>\n",
       "      <th>Stance</th>\n",
       "    </tr>\n",
       "  </thead>\n",
       "  <tbody>\n",
       "    <tr>\n",
       "      <th>0</th>\n",
       "      <td>#IEndorseBernie for tons of reasons , but this...</td>\n",
       "      <td>Bernie Sanders</td>\n",
       "      <td>FAVOR</td>\n",
       "    </tr>\n",
       "    <tr>\n",
       "      <th>1</th>\n",
       "      <td>A big problem w / #Bernie left is not only pre...</td>\n",
       "      <td>Bernie Sanders</td>\n",
       "      <td>AGAINST</td>\n",
       "    </tr>\n",
       "    <tr>\n",
       "      <th>2</th>\n",
       "      <td>This poll is not reflecting anything : \" age w...</td>\n",
       "      <td>Bernie Sanders</td>\n",
       "      <td>AGAINST</td>\n",
       "    </tr>\n",
       "    <tr>\n",
       "      <th>3</th>\n",
       "      <td>So proud how @USER is shedding light on who is...</td>\n",
       "      <td>Bernie Sanders</td>\n",
       "      <td>FAVOR</td>\n",
       "    </tr>\n",
       "    <tr>\n",
       "      <th>4</th>\n",
       "      <td>According to media bias fact checker , you hav...</td>\n",
       "      <td>Bernie Sanders</td>\n",
       "      <td>FAVOR</td>\n",
       "    </tr>\n",
       "  </tbody>\n",
       "</table>\n",
       "</div>"
      ],
      "text/plain": [
       "                                               Tweet          Target   Stance\n",
       "0  #IEndorseBernie for tons of reasons , but this...  Bernie Sanders    FAVOR\n",
       "1  A big problem w / #Bernie left is not only pre...  Bernie Sanders  AGAINST\n",
       "2  This poll is not reflecting anything : \" age w...  Bernie Sanders  AGAINST\n",
       "3  So proud how @USER is shedding light on who is...  Bernie Sanders    FAVOR\n",
       "4  According to media bias fact checker , you hav...  Bernie Sanders    FAVOR"
      ]
     },
     "execution_count": 4,
     "metadata": {},
     "output_type": "execute_result"
    }
   ],
   "source": [
    "df.head()"
   ]
  },
  {
   "cell_type": "code",
   "execution_count": 5,
   "id": "9971ea0c",
   "metadata": {},
   "outputs": [
    {
     "name": "stdout",
     "output_type": "stream",
     "text": [
      "('Original tweet: #IEndorseBernie for tons of reasons, but this one is my '\n",
      " 'number 1. We are running out of time to save our planet from the worst of '\n",
      " 'climate change. We NEED Bernies #GreenNewDeal. #Bernie @Lafayette, Indiana')\n",
      "('Preprocessed tweet: #IEndorseBernie for tons of reasons , but this one is my '\n",
      " 'number 1 . We are running out of time to save our planet from the worst of '\n",
      " 'climate change . We NEED Bernies #GreenNewDeal . #Bernie @USER , Indiana')\n"
     ]
    }
   ],
   "source": [
    "df_org = pd.read_csv(\"../data/pstance_bernie.csv\")\n",
    "p.pprint(f\"Original tweet: {df_org.iloc[0]['Tweet']}\")\n",
    "\n",
    "p.pprint(f\"Preprocessed tweet: {df.iloc[0]['Tweet']}\")\n"
   ]
  }
 ],
 "metadata": {
  "kernelspec": {
   "display_name": ".venv",
   "language": "python",
   "name": "python3"
  },
  "language_info": {
   "codemirror_mode": {
    "name": "ipython",
    "version": 3
   },
   "file_extension": ".py",
   "mimetype": "text/x-python",
   "name": "python",
   "nbconvert_exporter": "python",
   "pygments_lexer": "ipython3",
   "version": "3.7.9"
  }
 },
 "nbformat": 4,
 "nbformat_minor": 5
}
