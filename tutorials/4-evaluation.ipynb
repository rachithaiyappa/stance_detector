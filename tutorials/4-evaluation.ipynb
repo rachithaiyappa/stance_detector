{
 "cells": [
  {
   "cell_type": "markdown",
   "id": "09d3aac7",
   "metadata": {},
   "source": [
    "# This notebook shows show to evaluate the results obtained from greedy, PMI, and AfT decoding"
   ]
  },
  {
   "cell_type": "code",
   "execution_count": 1,
   "id": "c09f9364",
   "metadata": {},
   "outputs": [],
   "source": [
    "from stance_detector.evaluation import Evaluator"
   ]
  },
  {
   "cell_type": "code",
   "execution_count": 2,
   "id": "f1261997",
   "metadata": {},
   "outputs": [],
   "source": [
    "evaluator = Evaluator()\n",
    "prompt_template = \"1\"\n",
    "instruction = \"1\""
   ]
  },
  {
   "cell_type": "code",
   "execution_count": 3,
   "id": "7a1611af",
   "metadata": {},
   "outputs": [
    {
     "name": "stdout",
     "output_type": "stream",
     "text": [
      "2025-05-14 17:59:48,865 - stance_detector.evaluation - INFO - Evaluating greedy decoding\n",
      "2025-05-14 17:59:48,866 - stance_detector.evaluation - INFO - Using prompt_template: 1 and instruction: 1\n",
      "2025-05-14 17:59:48,867 - stance_detector.evaluation - INFO - Filtering data for prompt_template: 1 and instruction: 1\n",
      "2025-05-14 17:59:48,877 - stance_detector.evaluation - INFO - Saved results to ../data/semeval_taskA_targetAtheism_prompt1_instruction1_prompts--output-eval.csv\n",
      "2025-05-14 17:59:48,878 - stance_detector.evaluation - INFO - Processed evaluation for 220 records\n"
     ]
    },
    {
     "data": {
      "text/plain": [
       "{'prompt_template': '1',\n",
       " 'instruction': '1',\n",
       " 'favor_tp': 10,\n",
       " 'favor_fp': 12,\n",
       " 'favor_tn': 176,\n",
       " 'favor_fn': 22,\n",
       " 'favor_f1': 37.03703703703704,\n",
       " 'against_tp': 129,\n",
       " 'against_fp': 16,\n",
       " 'against_tn': 44,\n",
       " 'against_fn': 31,\n",
       " 'against_f1': 84.59016393442623,\n",
       " 'overall_f1': 60.813600485731634}"
      ]
     },
     "execution_count": 3,
     "metadata": {},
     "output_type": "execute_result"
    }
   ],
   "source": [
    "# greedy evaluation\n",
    "input = \"../data/semeval_taskA_targetAtheism_prompt1_instruction1_prompts--output.pkl\"\n",
    "output_path = \"../data/semeval_taskA_targetAtheism_prompt1_instruction1_prompts--output-eval.csv\"\n",
    "evaluator.evaluate(\n",
    "    input_path = input, \n",
    "    prompt_template = prompt_template, \n",
    "    instruction = instruction,\n",
    "    decoding=\"greedy\"\n",
    "    )\n"
   ]
  },
  {
   "cell_type": "code",
   "execution_count": 4,
   "id": "7db8b7ed",
   "metadata": {},
   "outputs": [
    {
     "name": "stdout",
     "output_type": "stream",
     "text": [
      "2025-05-14 17:59:48,892 - stance_detector.evaluation - INFO - Evaluating pmi decoding\n",
      "2025-05-14 17:59:48,893 - stance_detector.evaluation - INFO - Using prompt_template: 1 and instruction: 1\n",
      "2025-05-14 17:59:48,894 - stance_detector.evaluation - INFO - Filtering data for prompt_template: 1 and instruction: 1\n",
      "2025-05-14 17:59:48,902 - stance_detector.evaluation - INFO - Saved results to ../data/semeval_taskA_targetAtheism_prompt1_instruction1_prompts--pmi-output-eval.csv\n",
      "2025-05-14 17:59:48,902 - stance_detector.evaluation - INFO - Processed evaluation for 220 records\n"
     ]
    },
    {
     "data": {
      "text/plain": [
       "{'prompt_template': '1',\n",
       " 'instruction': '1',\n",
       " 'favor_tp': 20,\n",
       " 'favor_fp': 20,\n",
       " 'favor_tn': 168,\n",
       " 'favor_fn': 12,\n",
       " 'favor_f1': 55.55555555555556,\n",
       " 'against_tp': 94,\n",
       " 'against_fp': 4,\n",
       " 'against_tn': 56,\n",
       " 'against_fn': 66,\n",
       " 'against_f1': 72.86821705426357,\n",
       " 'overall_f1': 64.21188630490957}"
      ]
     },
     "execution_count": 4,
     "metadata": {},
     "output_type": "execute_result"
    }
   ],
   "source": [
    "# pmi evaluation\n",
    "input = \"../data/semeval_taskA_targetAtheism_prompt1_instruction1_prompts--pmi-output.pkl\"\n",
    "output_path = \"../data/semeval_taskA_targetAtheism_prompt1_instruction1_prompts--pmi-output-eval.csv\"\n",
    "evaluator.evaluate(\n",
    "    input_path = input, \n",
    "    prompt_template = prompt_template, \n",
    "    instruction = instruction,\n",
    "    decoding=\"pmi\"\n",
    "    )\n"
   ]
  },
  {
   "cell_type": "code",
   "execution_count": 5,
   "id": "bda9b537",
   "metadata": {},
   "outputs": [
    {
     "name": "stdout",
     "output_type": "stream",
     "text": [
      "2025-05-14 17:59:48,925 - stance_detector.evaluation - INFO - Evaluating aft decoding\n",
      "2025-05-14 17:59:48,926 - stance_detector.evaluation - INFO - Using prompt_template: 1 and instruction: 1\n",
      "2025-05-14 17:59:48,927 - stance_detector.evaluation - INFO - Filtering data for prompt_template: 1 and instruction: 1\n",
      "2025-05-14 17:59:48,935 - stance_detector.evaluation - INFO - Saved results to ../data/semeval_taskA_targetAtheism_prompt1_instruction1_prompts--aft-output-eval.csv\n",
      "2025-05-14 17:59:48,935 - stance_detector.evaluation - INFO - Processed evaluation for 221 records\n"
     ]
    },
    {
     "data": {
      "text/plain": [
       "{'prompt_template': '1',\n",
       " 'instruction': '1',\n",
       " 'favor_tp': 20,\n",
       " 'favor_fp': 20,\n",
       " 'favor_tn': 169,\n",
       " 'favor_fn': 12,\n",
       " 'favor_f1': 55.55555555555556,\n",
       " 'against_tp': 94,\n",
       " 'against_fp': 4,\n",
       " 'against_tn': 56,\n",
       " 'against_fn': 67,\n",
       " 'against_f1': 72.58687258687259,\n",
       " 'overall_f1': 64.07121407121407}"
      ]
     },
     "execution_count": 5,
     "metadata": {},
     "output_type": "execute_result"
    }
   ],
   "source": [
    "# aft evaluation\n",
    "input = \"../data/semeval_taskA_targetAtheism_prompt1_instruction1_prompts--aft-output.pkl\"\n",
    "output_path = \"../data/semeval_taskA_targetAtheism_prompt1_instruction1_prompts--aft-output-eval.csv\"\n",
    "\n",
    "evaluator.evaluate(\n",
    "    input_path = input, \n",
    "    prompt_template = prompt_template, \n",
    "    instruction = instruction,\n",
    "    decoding=\"aft\"\n",
    "    )"
   ]
  }
 ],
 "metadata": {
  "kernelspec": {
   "display_name": ".venv",
   "language": "python",
   "name": "python3"
  },
  "language_info": {
   "codemirror_mode": {
    "name": "ipython",
    "version": 3
   },
   "file_extension": ".py",
   "mimetype": "text/x-python",
   "name": "python",
   "nbconvert_exporter": "python",
   "pygments_lexer": "ipython3",
   "version": "3.7.9"
  }
 },
 "nbformat": 4,
 "nbformat_minor": 5
}
