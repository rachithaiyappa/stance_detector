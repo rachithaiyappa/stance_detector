{
 "cells": [
  {
   "cell_type": "markdown",
   "id": "42012e5a",
   "metadata": {},
   "source": [
    "# This notebooks shows how to obtain the perplexities of the prompt\n",
    "\n",
    "### Uses part of the [lmppl package](https://github.com/asahi417/lmppl)"
   ]
  },
  {
   "cell_type": "code",
   "execution_count": 1,
   "id": "1efdf56a",
   "metadata": {},
   "outputs": [
    {
     "name": "stderr",
     "output_type": "stream",
     "text": [
      "/nobackup/racball/github/stance_detector/.venv/lib/python3.7/site-packages/tqdm/auto.py:21: TqdmWarning: IProgress not found. Please update jupyter and ipywidgets. See https://ipywidgets.readthedocs.io/en/stable/user_install.html\n",
      "  from .autonotebook import tqdm as notebook_tqdm\n"
     ]
    }
   ],
   "source": [
    "from stance_detector.prompt_perplexity import Perplexity\n",
    "import yaml"
   ]
  },
  {
   "cell_type": "code",
   "execution_count": 2,
   "id": "72a5f1dd",
   "metadata": {},
   "outputs": [
    {
     "name": "stdout",
     "output_type": "stream",
     "text": [
      "{0: '0GB', 1: '0GB', 2: '0GB', 3: '0GB', 4: '0GB', 5: '0GB', 6: '0GB', 7: '80GB'}\n"
     ]
    }
   ],
   "source": [
    "config_path = \"../config.yaml\"\n",
    "with open(config_path, \"r\") as f:\n",
    "    config = yaml.safe_load(f)\n",
    "max_memory_mapping = config[\"max_memory_mapping\"]\n",
    "print(max_memory_mapping)"
   ]
  },
  {
   "cell_type": "code",
   "execution_count": 3,
   "id": "6d574d0d",
   "metadata": {},
   "outputs": [
    {
     "name": "stderr",
     "output_type": "stream",
     "text": [
      "The argument `trust_remote_code` is to be used with Auto classes. It has no effect here and is ignored.\n"
     ]
    },
    {
     "name": "stdout",
     "output_type": "stream",
     "text": [
      "2025-05-14 18:13:05,077 - stance_detector.prompt_perplexity - INFO - Model google/flan-t5-xxl loaded successfully.\n"
     ]
    }
   ],
   "source": [
    "perplexity = Perplexity(\n",
    "    model_name = \"google/flan-t5-xxl\",\n",
    "    hf_cache_dir = \"/home/racball/flan\",\n",
    "    cuda = 7,\n",
    "    max_memory = max_memory_mapping,\n",
    ")"
   ]
  },
  {
   "cell_type": "code",
   "execution_count": 5,
   "id": "e3fb6f53",
   "metadata": {},
   "outputs": [
    {
     "name": "stdout",
     "output_type": "stream",
     "text": [
      "2025-05-14 18:14:39,754 - stance_detector.prompt_perplexity - INFO - Processing batch 1/10 with 22 prompts.\n"
     ]
    },
    {
     "name": "stderr",
     "output_type": "stream",
     "text": [
      "100%|██████████| 1/1 [00:02<00:00,  2.48s/it]"
     ]
    },
    {
     "name": "stdout",
     "output_type": "stream",
     "text": [
      "2025-05-14 18:14:42,240 - stance_detector.prompt_perplexity - INFO - Processing batch 2/10 with 22 prompts.\n"
     ]
    },
    {
     "name": "stderr",
     "output_type": "stream",
     "text": [
      "\n",
      "100%|██████████| 1/1 [00:01<00:00,  1.25s/it]"
     ]
    },
    {
     "name": "stdout",
     "output_type": "stream",
     "text": [
      "2025-05-14 18:14:43,496 - stance_detector.prompt_perplexity - INFO - Processing batch 3/10 with 22 prompts.\n"
     ]
    },
    {
     "name": "stderr",
     "output_type": "stream",
     "text": [
      "\n",
      "100%|██████████| 1/1 [00:01<00:00,  1.36s/it]"
     ]
    },
    {
     "name": "stdout",
     "output_type": "stream",
     "text": [
      "2025-05-14 18:14:44,860 - stance_detector.prompt_perplexity - INFO - Processing batch 4/10 with 22 prompts.\n"
     ]
    },
    {
     "name": "stderr",
     "output_type": "stream",
     "text": [
      "\n",
      "100%|██████████| 1/1 [00:01<00:00,  1.26s/it]"
     ]
    },
    {
     "name": "stdout",
     "output_type": "stream",
     "text": [
      "2025-05-14 18:14:46,121 - stance_detector.prompt_perplexity - INFO - Processing batch 5/10 with 22 prompts.\n"
     ]
    },
    {
     "name": "stderr",
     "output_type": "stream",
     "text": [
      "\n",
      "100%|██████████| 1/1 [00:01<00:00,  1.40s/it]"
     ]
    },
    {
     "name": "stdout",
     "output_type": "stream",
     "text": [
      "2025-05-14 18:14:47,520 - stance_detector.prompt_perplexity - INFO - Processing batch 6/10 with 22 prompts.\n"
     ]
    },
    {
     "name": "stderr",
     "output_type": "stream",
     "text": [
      "\n",
      "100%|██████████| 1/1 [00:01<00:00,  1.28s/it]"
     ]
    },
    {
     "name": "stdout",
     "output_type": "stream",
     "text": [
      "2025-05-14 18:14:48,805 - stance_detector.prompt_perplexity - INFO - Processing batch 7/10 with 22 prompts.\n"
     ]
    },
    {
     "name": "stderr",
     "output_type": "stream",
     "text": [
      "\n",
      "100%|██████████| 1/1 [00:01<00:00,  1.52s/it]"
     ]
    },
    {
     "name": "stdout",
     "output_type": "stream",
     "text": [
      "2025-05-14 18:14:50,333 - stance_detector.prompt_perplexity - INFO - Processing batch 8/10 with 22 prompts.\n"
     ]
    },
    {
     "name": "stderr",
     "output_type": "stream",
     "text": [
      "\n",
      "100%|██████████| 1/1 [00:01<00:00,  1.40s/it]"
     ]
    },
    {
     "name": "stdout",
     "output_type": "stream",
     "text": [
      "2025-05-14 18:14:51,736 - stance_detector.prompt_perplexity - INFO - Processing batch 9/10 with 22 prompts.\n"
     ]
    },
    {
     "name": "stderr",
     "output_type": "stream",
     "text": [
      "\n",
      "100%|██████████| 1/1 [00:01<00:00,  1.36s/it]"
     ]
    },
    {
     "name": "stdout",
     "output_type": "stream",
     "text": [
      "2025-05-14 18:14:53,095 - stance_detector.prompt_perplexity - INFO - Processing batch 10/10 with 22 prompts.\n"
     ]
    },
    {
     "name": "stderr",
     "output_type": "stream",
     "text": [
      "\n",
      "100%|██████████| 1/1 [00:01<00:00,  1.59s/it]"
     ]
    },
    {
     "name": "stdout",
     "output_type": "stream",
     "text": [
      "2025-05-14 18:14:54,691 - stance_detector.prompt_perplexity - INFO - Final results saved to ../data/semeval_taskA_targetAtheism_prompt1_instruction1_prompts--perplexity.pkl\n",
      "2025-05-14 18:14:54,692 - stance_detector.prompt_perplexity - INFO - Processed 220 records\n"
     ]
    },
    {
     "name": "stderr",
     "output_type": "stream",
     "text": [
      "\n"
     ]
    }
   ],
   "source": [
    "df = perplexity.get_perplexity(\n",
    "    input_file= \"../data/semeval_taskA_targetAtheism_prompt1_instruction1_prompts.parquet\",\n",
    "    output_path= \"../data/semeval_taskA_targetAtheism_prompt1_instruction1_prompts--perplexity.pkl\"\n",
    "    )"
   ]
  },
  {
   "cell_type": "code",
   "execution_count": 8,
   "id": "d684f01c",
   "metadata": {},
   "outputs": [
    {
     "data": {
      "text/plain": [
       "Index(['ID', 'Target', 'Tweet', 'Stance', 'Prompt', 'label', 'class_tokens',\n",
       "       'perplexity'],\n",
       "      dtype='object')"
      ]
     },
     "execution_count": 8,
     "metadata": {},
     "output_type": "execute_result"
    }
   ],
   "source": [
    "df.columns"
   ]
  },
  {
   "cell_type": "markdown",
   "id": "edf02f07",
   "metadata": {},
   "source": [
    "- `ID` is the datapoint ID\n",
    "\n",
    "- `Target` is the target towards which stance is being inferred\n",
    "\n",
    "- `Tweet` is the tweet to be used to infer stance.\n",
    "\n",
    "- `Stance` is the ground truth stance label\n",
    "\n",
    "- `Prompt` is the prompt to the LLM\n",
    "\n",
    "- `label` is of the type x--y where x is an indentifier for the prompt_template and y is the identifier for instruction.\n",
    "\n",
    "- `class_tokens` refers to the set of candidate tokens (options) for which we compute the probabilities that they are the outputs of the LLM given the prompt, i.e., P(y|x).\n",
    "\n",
    "- `perplexity` is the prompt perplexity."
   ]
  },
  {
   "cell_type": "code",
   "execution_count": 7,
   "id": "6355679f",
   "metadata": {},
   "outputs": [
    {
     "data": {
      "text/html": [
       "<div>\n",
       "<style scoped>\n",
       "    .dataframe tbody tr th:only-of-type {\n",
       "        vertical-align: middle;\n",
       "    }\n",
       "\n",
       "    .dataframe tbody tr th {\n",
       "        vertical-align: top;\n",
       "    }\n",
       "\n",
       "    .dataframe thead th {\n",
       "        text-align: right;\n",
       "    }\n",
       "</style>\n",
       "<table border=\"1\" class=\"dataframe\">\n",
       "  <thead>\n",
       "    <tr style=\"text-align: right;\">\n",
       "      <th></th>\n",
       "      <th>ID</th>\n",
       "      <th>Target</th>\n",
       "      <th>Tweet</th>\n",
       "      <th>Stance</th>\n",
       "      <th>Prompt</th>\n",
       "      <th>label</th>\n",
       "      <th>class_tokens</th>\n",
       "      <th>perplexity</th>\n",
       "    </tr>\n",
       "  </thead>\n",
       "  <tbody>\n",
       "    <tr>\n",
       "      <th>0</th>\n",
       "      <td>10001</td>\n",
       "      <td>Atheism</td>\n",
       "      <td>He who exalts himself shall      be humbled; a...</td>\n",
       "      <td>AGAINST</td>\n",
       "      <td>Your response to the question should be either...</td>\n",
       "      <td>1--1</td>\n",
       "      <td>[Positive, Negative, Neutral, Positive., Negat...</td>\n",
       "      <td>16.660692</td>\n",
       "    </tr>\n",
       "    <tr>\n",
       "      <th>1</th>\n",
       "      <td>10002</td>\n",
       "      <td>Atheism</td>\n",
       "      <td>RT @prayerbullets: I remove Nehushtan -previou...</td>\n",
       "      <td>AGAINST</td>\n",
       "      <td>Your response to the question should be either...</td>\n",
       "      <td>1--1</td>\n",
       "      <td>[Positive, Negative, Neutral, Positive., Negat...</td>\n",
       "      <td>67.655969</td>\n",
       "    </tr>\n",
       "    <tr>\n",
       "      <th>2</th>\n",
       "      <td>10003</td>\n",
       "      <td>Atheism</td>\n",
       "      <td>@Brainman365 @heidtjj @BenjaminLives I have so...</td>\n",
       "      <td>AGAINST</td>\n",
       "      <td>Your response to the question should be either...</td>\n",
       "      <td>1--1</td>\n",
       "      <td>[Positive, Negative, Neutral, Positive., Negat...</td>\n",
       "      <td>42.528605</td>\n",
       "    </tr>\n",
       "    <tr>\n",
       "      <th>3</th>\n",
       "      <td>10004</td>\n",
       "      <td>Atheism</td>\n",
       "      <td>#God is utterly powerless without Human interv...</td>\n",
       "      <td>AGAINST</td>\n",
       "      <td>Your response to the question should be either...</td>\n",
       "      <td>1--1</td>\n",
       "      <td>[Positive, Negative, Neutral, Positive., Negat...</td>\n",
       "      <td>52.113708</td>\n",
       "    </tr>\n",
       "    <tr>\n",
       "      <th>4</th>\n",
       "      <td>10005</td>\n",
       "      <td>Atheism</td>\n",
       "      <td>@David_Cameron   Miracles of #Multiculturalism...</td>\n",
       "      <td>AGAINST</td>\n",
       "      <td>Your response to the question should be either...</td>\n",
       "      <td>1--1</td>\n",
       "      <td>[Positive, Negative, Neutral, Positive., Negat...</td>\n",
       "      <td>30.270378</td>\n",
       "    </tr>\n",
       "  </tbody>\n",
       "</table>\n",
       "</div>"
      ],
      "text/plain": [
       "      ID   Target                                              Tweet   Stance  \\\n",
       "0  10001  Atheism  He who exalts himself shall      be humbled; a...  AGAINST   \n",
       "1  10002  Atheism  RT @prayerbullets: I remove Nehushtan -previou...  AGAINST   \n",
       "2  10003  Atheism  @Brainman365 @heidtjj @BenjaminLives I have so...  AGAINST   \n",
       "3  10004  Atheism  #God is utterly powerless without Human interv...  AGAINST   \n",
       "4  10005  Atheism  @David_Cameron   Miracles of #Multiculturalism...  AGAINST   \n",
       "\n",
       "                                              Prompt label  \\\n",
       "0  Your response to the question should be either...  1--1   \n",
       "1  Your response to the question should be either...  1--1   \n",
       "2  Your response to the question should be either...  1--1   \n",
       "3  Your response to the question should be either...  1--1   \n",
       "4  Your response to the question should be either...  1--1   \n",
       "\n",
       "                                        class_tokens  perplexity  \n",
       "0  [Positive, Negative, Neutral, Positive., Negat...   16.660692  \n",
       "1  [Positive, Negative, Neutral, Positive., Negat...   67.655969  \n",
       "2  [Positive, Negative, Neutral, Positive., Negat...   42.528605  \n",
       "3  [Positive, Negative, Neutral, Positive., Negat...   52.113708  \n",
       "4  [Positive, Negative, Neutral, Positive., Negat...   30.270378  "
      ]
     },
     "execution_count": 7,
     "metadata": {},
     "output_type": "execute_result"
    }
   ],
   "source": [
    "df.head()"
   ]
  }
 ],
 "metadata": {
  "kernelspec": {
   "display_name": ".venv",
   "language": "python",
   "name": "python3"
  },
  "language_info": {
   "codemirror_mode": {
    "name": "ipython",
    "version": 3
   },
   "file_extension": ".py",
   "mimetype": "text/x-python",
   "name": "python",
   "nbconvert_exporter": "python",
   "pygments_lexer": "ipython3",
   "version": "3.7.9"
  }
 },
 "nbformat": 4,
 "nbformat_minor": 5
}
